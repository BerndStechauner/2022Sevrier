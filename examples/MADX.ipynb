{
 "cells": [
  {
   "cell_type": "code",
   "execution_count": 1,
   "metadata": {},
   "outputs": [
    {
     "name": "stdout",
     "output_type": "stream",
     "text": [
      "\n",
      "  ++++++++++++++++++++++++++++++++++++++++++++\n",
      "  +     MAD-X 5.05.00  (64 bit, Linux)       +\n",
      "  + Support: mad@cern.ch, http://cern.ch/mad +\n",
      "  + Release   date: 2019.05.10               +\n",
      "  + Execution date: 2019.06.09 15:18:36      +\n",
      "  ++++++++++++++++++++++++++++++++++++++++++++\n"
     ]
    }
   ],
   "source": [
    "from cpymad.madx import Madx\n",
    "madx = Madx()\n",
    "from matplotlib import pyplot as plt"
   ]
  },
  {
   "cell_type": "markdown",
   "metadata": {},
   "source": [
    "# Run the code"
   ]
  },
  {
   "cell_type": "code",
   "execution_count": 22,
   "metadata": {
    "scrolled": true
   },
   "outputs": [
    {
     "name": "stdout",
     "output_type": "stream",
     "text": [
      "! General parameters\n",
      "\n",
      "Lcell = 100;\n",
      "\n",
      "++++++ info: lcell redefined\n",
      "\n",
      "\n",
      "! Quadrupole Parameters\n",
      "\n",
      "f=60;\n",
      "\n",
      "++++++ info: f redefined\n",
      "K1FL := 1/f;\n",
      "\n",
      "++++++ info: k1fl redefined\n",
      "K1DL := -K1FL;\n",
      "\n",
      "++++++ info: k1dl redefined\n",
      "\n",
      "\n",
      "! Quadrupole definition\n",
      "\n",
      "QF: multipole, KNL:={0,K1FL};\n",
      "\n",
      "++++++ info: element redefined: qf\n",
      "QD: multipole, KNL:={0,K1DL};\n",
      "\n",
      "++++++ info: element redefined: qd\n",
      "\n",
      "\n",
      "\n",
      "\n",
      "! Sequence definition\n",
      "\n",
      "FODO: SEQUENCE, REFER=center, L=100;\n",
      "\n",
      "qf: QF, at=0;\n",
      "\n",
      "qd: QD, at=50;\n",
      "\n",
      "ENDSEQUENCE;\n",
      "\n",
      "\n",
      "\n",
      "! Beam definition\n",
      "\n",
      "beam, particle=proton, energy=1;\n",
      "\n",
      "use, sequence=FODO;\n",
      "\n",
      "\n",
      "\n",
      "/*************************************************/\n",
      "\n",
      "!   TWISS\n",
      "\n",
      "/*************************************************/\n",
      "\n",
      "\n",
      "\n",
      "SELECT,FLAG=TWISS,column=name,s,betx,bety,alfx,alfy,mux,muy,x,px,y,py,dx,dpx,dy,dpy;\n",
      "\n",
      "twiss,file=\"FODO_output_before_matching.txt\";\n",
      "\n",
      "enter Twiss module\n",
      "\n",
      "++++++ table: summ\n",
      "\n",
      "            length             orbit5               alfa            gammatr \n",
      "               100                 -0                  0                  0 \n",
      "\n",
      "                q1                dq1            betxmax              dxmax \n",
      "      0.1368017686      -0.4217921219        187.0064934                  0 \n",
      "\n",
      "             dxrms             xcomax             xcorms                 q2 \n",
      "                 0                  0                  0       0.1368017686 \n",
      "\n",
      "               dq2            betymax              dymax              dyrms \n",
      "     -0.4217921219        187.0064934                  0                  0 \n",
      "\n",
      "            ycomax             ycorms             deltap            synch_1 \n",
      "                 0                  0                  0                  0 \n",
      "\n",
      "           synch_2            synch_3            synch_4            synch_5 \n",
      "                 0                  0                  0                  0 \n",
      "\n",
      "            nflips \n",
      "                 0 \n",
      "\n",
      "\n",
      "match, sequence=FODO;\n",
      "\n",
      "START MATCHING\n",
      "\n",
      "number of sequences: 1\n",
      "sequence name: fodo\n",
      "global,q1=60/360;\n",
      "\n",
      "global,q2=60/360;\n",
      "\n",
      "vary, name=f, step=0.00001;\n",
      "\n",
      "lmdif, calls=50, tolerance=1e-15;\n",
      "\n",
      "number of variables:    1\n",
      "user given constraints: 1\n",
      "total constraints:      2\n",
      "\n",
      "START LMDIF:\n",
      "\n",
      "endmatch;\n",
      "\n",
      "\n",
      "MATCH SUMMARY\n",
      "\n",
      "Node_Name                  Constraint   Type  Target Value       Final Value        Penalty\n",
      "--------------------------------------------------------------------------------------------------\n",
      "\n",
      "\n",
      "Final Penalty Function =   3.58340230e-18\n",
      "\n",
      "\n",
      "\n",
      "\n",
      "\n",
      "Variable                 Final Value  Initial Value Lower Limit  Upper Limit \n",
      "--------------------------------------------------------------------------------\n",
      "f                         5.00000e+01  6.00000e+01 -1.00000e+20  1.00000e+20\n",
      "\n",
      "END MATCH SUMMARY\n",
      "\n",
      "VARIABLE \"TAR\" SET TO   3.58340230e-18\n",
      "\n",
      "\n",
      "SELECT,FLAG=TWISS,column=name,s,betx,bety,alfx,alfy,mux,muy,x,px,y,py,dx,dpx,dy,dpy;\n",
      "\n",
      "twiss,file=\"FODO_output_after_matching.txt\";\n",
      "\n",
      "enter Twiss module\n",
      "\n",
      "++++++ table: summ\n",
      "\n",
      "           gammatr \n",
      "               100                 -0                  0                  0 \n",
      "\n",
      "                q1                dq1            betxmax              dxmax \n",
      "      0.1666666665      -0.5313018308        173.2050808                  0 \n",
      "\n",
      "             dxrms             xcomax             xcorms                 q2 \n",
      "                 0                  0                  0       0.1666666665 \n",
      "\n",
      "               dq2            betymax              dymax              dyrms \n",
      "     -0.5313018308        173.2050808                 -0                  0 \n",
      "\n",
      "            ycomax             ycorms             deltap            synch_1 \n",
      "                 0                  0                  0                  0 \n",
      "\n",
      "           synch_2            synch_3            synch_4            synch_5 \n",
      "                 0                  0                  0                  0 \n",
      "\n",
      "            nflips \n",
      "                 0 \n",
      "\n",
      "\n",
      "plot, HAXIS=s, VAXIS=betx,bety,colour=100, interpolate;\n",
      "\n",
      "Plot - default table plotted: twiss\n",
      "plot, HAXIS=s, VAXIS=x,y,colour=100, interpolate;\n",
      "\n",
      "Plot - default table plotted: twiss\n",
      "\n",
      "\n",
      "value, table(SUMM,Q1);\n",
      "\n",
      "table( summ q1 )   =       0.1666666665 ;\n",
      "value, table(SUMM,Q2);\n",
      "\n",
      "table( summ q2 )   =       0.1666666665 ;\n",
      "value, table(TWISS,FODO$END,MUX);\n",
      "table( twiss fodo$end mux ) =       0.1666666665 ;\n"
     ]
    }
   ],
   "source": [
    "madx.option(echo=True)\n",
    "madx.call(file='FODO_input.txt')"
   ]
  },
  {
   "cell_type": "markdown",
   "metadata": {},
   "source": [
    "# Twiss"
   ]
  },
  {
   "cell_type": "code",
   "execution_count": 23,
   "metadata": {},
   "outputs": [
    {
     "name": "stdout",
     "output_type": "stream",
     "text": [
      "enter Twiss module\n",
      "\n",
      "++++++ table: summ\n",
      "\n",
      "            length             orbit5               alfa            gammatr \n",
      "               100                 -0                  0                  0 \n",
      "\n",
      "                q1                dq1            betxmax              dxmax \n",
      "      0.1666666665      -0.5313018308        173.2050808                  0 \n",
      "\n",
      "             dxrms             xcomax             xcorms                 q2 \n",
      "                 0                  0                  0       0.1666666665 \n",
      "\n",
      "               dq2            betymax              dymax              dyrms \n",
      "     -0.5313018308        173.2050808                 -0                  0 \n",
      "\n",
      "            ycomax             ycorms             deltap            synch_1 \n",
      "                 0                  0                  0                  0 \n",
      "\n",
      "           synch_2            synch_3            synch_4            synch_5 \n",
      "                 0                  0                  0                  0 \n",
      "\n",
      "            nflips \n",
      "                 0 \n"
     ]
    }
   ],
   "source": [
    "myTwiss=madx.twiss(sequence='FODO')\n",
    "myTwissDF=myTwiss.dframe()"
   ]
  },
  {
   "cell_type": "code",
   "execution_count": 24,
   "metadata": {},
   "outputs": [
    {
     "data": {
      "text/html": [
       "<div>\n",
       "<style scoped>\n",
       "    .dataframe tbody tr th:only-of-type {\n",
       "        vertical-align: middle;\n",
       "    }\n",
       "\n",
       "    .dataframe tbody tr th {\n",
       "        vertical-align: top;\n",
       "    }\n",
       "\n",
       "    .dataframe thead th {\n",
       "        text-align: right;\n",
       "    }\n",
       "</style>\n",
       "<table border=\"1\" class=\"dataframe\">\n",
       "  <thead>\n",
       "    <tr style=\"text-align: right;\">\n",
       "      <th></th>\n",
       "      <th>name</th>\n",
       "      <th>keyword</th>\n",
       "      <th>s</th>\n",
       "      <th>betx</th>\n",
       "      <th>alfx</th>\n",
       "      <th>mux</th>\n",
       "      <th>bety</th>\n",
       "      <th>alfy</th>\n",
       "      <th>muy</th>\n",
       "      <th>x</th>\n",
       "      <th>...</th>\n",
       "      <th>sig54</th>\n",
       "      <th>sig55</th>\n",
       "      <th>sig56</th>\n",
       "      <th>sig61</th>\n",
       "      <th>sig62</th>\n",
       "      <th>sig63</th>\n",
       "      <th>sig64</th>\n",
       "      <th>sig65</th>\n",
       "      <th>sig66</th>\n",
       "      <th>n1</th>\n",
       "    </tr>\n",
       "  </thead>\n",
       "  <tbody>\n",
       "    <tr>\n",
       "      <th>#s</th>\n",
       "      <td>fodo$start:1</td>\n",
       "      <td>marker</td>\n",
       "      <td>0.0</td>\n",
       "      <td>173.205081</td>\n",
       "      <td>-1.732051</td>\n",
       "      <td>0.000000</td>\n",
       "      <td>57.735027</td>\n",
       "      <td>0.577350</td>\n",
       "      <td>0.000000</td>\n",
       "      <td>0.0</td>\n",
       "      <td>...</td>\n",
       "      <td>0.0</td>\n",
       "      <td>0.0</td>\n",
       "      <td>0.0</td>\n",
       "      <td>0.0</td>\n",
       "      <td>0.0</td>\n",
       "      <td>0.0</td>\n",
       "      <td>0.0</td>\n",
       "      <td>0.0</td>\n",
       "      <td>0.0</td>\n",
       "      <td>0.0</td>\n",
       "    </tr>\n",
       "    <tr>\n",
       "      <th>qf</th>\n",
       "      <td>qf:1</td>\n",
       "      <td>multipole</td>\n",
       "      <td>0.0</td>\n",
       "      <td>173.205081</td>\n",
       "      <td>1.732051</td>\n",
       "      <td>0.000000</td>\n",
       "      <td>57.735027</td>\n",
       "      <td>-0.577350</td>\n",
       "      <td>0.000000</td>\n",
       "      <td>0.0</td>\n",
       "      <td>...</td>\n",
       "      <td>0.0</td>\n",
       "      <td>0.0</td>\n",
       "      <td>0.0</td>\n",
       "      <td>0.0</td>\n",
       "      <td>0.0</td>\n",
       "      <td>0.0</td>\n",
       "      <td>0.0</td>\n",
       "      <td>0.0</td>\n",
       "      <td>0.0</td>\n",
       "      <td>0.0</td>\n",
       "    </tr>\n",
       "    <tr>\n",
       "      <th>drift_0[0]</th>\n",
       "      <td>drift_0:0</td>\n",
       "      <td>drift</td>\n",
       "      <td>50.0</td>\n",
       "      <td>57.735027</td>\n",
       "      <td>0.577350</td>\n",
       "      <td>0.083333</td>\n",
       "      <td>173.205081</td>\n",
       "      <td>-1.732051</td>\n",
       "      <td>0.083333</td>\n",
       "      <td>0.0</td>\n",
       "      <td>...</td>\n",
       "      <td>0.0</td>\n",
       "      <td>0.0</td>\n",
       "      <td>0.0</td>\n",
       "      <td>0.0</td>\n",
       "      <td>0.0</td>\n",
       "      <td>0.0</td>\n",
       "      <td>0.0</td>\n",
       "      <td>0.0</td>\n",
       "      <td>0.0</td>\n",
       "      <td>0.0</td>\n",
       "    </tr>\n",
       "    <tr>\n",
       "      <th>qd</th>\n",
       "      <td>qd:1</td>\n",
       "      <td>multipole</td>\n",
       "      <td>50.0</td>\n",
       "      <td>57.735027</td>\n",
       "      <td>-0.577350</td>\n",
       "      <td>0.083333</td>\n",
       "      <td>173.205081</td>\n",
       "      <td>1.732051</td>\n",
       "      <td>0.083333</td>\n",
       "      <td>0.0</td>\n",
       "      <td>...</td>\n",
       "      <td>0.0</td>\n",
       "      <td>0.0</td>\n",
       "      <td>0.0</td>\n",
       "      <td>0.0</td>\n",
       "      <td>0.0</td>\n",
       "      <td>0.0</td>\n",
       "      <td>0.0</td>\n",
       "      <td>0.0</td>\n",
       "      <td>0.0</td>\n",
       "      <td>0.0</td>\n",
       "    </tr>\n",
       "    <tr>\n",
       "      <th>drift_1[0]</th>\n",
       "      <td>drift_1:0</td>\n",
       "      <td>drift</td>\n",
       "      <td>100.0</td>\n",
       "      <td>173.205081</td>\n",
       "      <td>-1.732051</td>\n",
       "      <td>0.166667</td>\n",
       "      <td>57.735027</td>\n",
       "      <td>0.577350</td>\n",
       "      <td>0.166667</td>\n",
       "      <td>0.0</td>\n",
       "      <td>...</td>\n",
       "      <td>0.0</td>\n",
       "      <td>0.0</td>\n",
       "      <td>0.0</td>\n",
       "      <td>0.0</td>\n",
       "      <td>0.0</td>\n",
       "      <td>0.0</td>\n",
       "      <td>0.0</td>\n",
       "      <td>0.0</td>\n",
       "      <td>0.0</td>\n",
       "      <td>0.0</td>\n",
       "    </tr>\n",
       "    <tr>\n",
       "      <th>#e</th>\n",
       "      <td>fodo$end:1</td>\n",
       "      <td>marker</td>\n",
       "      <td>100.0</td>\n",
       "      <td>173.205081</td>\n",
       "      <td>-1.732051</td>\n",
       "      <td>0.166667</td>\n",
       "      <td>57.735027</td>\n",
       "      <td>0.577350</td>\n",
       "      <td>0.166667</td>\n",
       "      <td>0.0</td>\n",
       "      <td>...</td>\n",
       "      <td>0.0</td>\n",
       "      <td>0.0</td>\n",
       "      <td>0.0</td>\n",
       "      <td>0.0</td>\n",
       "      <td>0.0</td>\n",
       "      <td>0.0</td>\n",
       "      <td>0.0</td>\n",
       "      <td>0.0</td>\n",
       "      <td>0.0</td>\n",
       "      <td>0.0</td>\n",
       "    </tr>\n",
       "  </tbody>\n",
       "</table>\n",
       "<p>6 rows × 256 columns</p>\n",
       "</div>"
      ],
      "text/plain": [
       "                    name    keyword      s        betx      alfx       mux  \\\n",
       "#s          fodo$start:1     marker    0.0  173.205081 -1.732051  0.000000   \n",
       "qf                  qf:1  multipole    0.0  173.205081  1.732051  0.000000   \n",
       "drift_0[0]     drift_0:0      drift   50.0   57.735027  0.577350  0.083333   \n",
       "qd                  qd:1  multipole   50.0   57.735027 -0.577350  0.083333   \n",
       "drift_1[0]     drift_1:0      drift  100.0  173.205081 -1.732051  0.166667   \n",
       "#e            fodo$end:1     marker  100.0  173.205081 -1.732051  0.166667   \n",
       "\n",
       "                  bety      alfy       muy    x  ...  sig54  sig55  sig56  \\\n",
       "#s           57.735027  0.577350  0.000000  0.0  ...    0.0    0.0    0.0   \n",
       "qf           57.735027 -0.577350  0.000000  0.0  ...    0.0    0.0    0.0   \n",
       "drift_0[0]  173.205081 -1.732051  0.083333  0.0  ...    0.0    0.0    0.0   \n",
       "qd          173.205081  1.732051  0.083333  0.0  ...    0.0    0.0    0.0   \n",
       "drift_1[0]   57.735027  0.577350  0.166667  0.0  ...    0.0    0.0    0.0   \n",
       "#e           57.735027  0.577350  0.166667  0.0  ...    0.0    0.0    0.0   \n",
       "\n",
       "            sig61  sig62  sig63  sig64  sig65  sig66   n1  \n",
       "#s            0.0    0.0    0.0    0.0    0.0    0.0  0.0  \n",
       "qf            0.0    0.0    0.0    0.0    0.0    0.0  0.0  \n",
       "drift_0[0]    0.0    0.0    0.0    0.0    0.0    0.0  0.0  \n",
       "qd            0.0    0.0    0.0    0.0    0.0    0.0  0.0  \n",
       "drift_1[0]    0.0    0.0    0.0    0.0    0.0    0.0  0.0  \n",
       "#e            0.0    0.0    0.0    0.0    0.0    0.0  0.0  \n",
       "\n",
       "[6 rows x 256 columns]"
      ]
     },
     "execution_count": 24,
     "metadata": {},
     "output_type": "execute_result"
    }
   ],
   "source": [
    "myTwissDF"
   ]
  },
  {
   "cell_type": "markdown",
   "metadata": {},
   "source": [
    "### Simple plot"
   ]
  },
  {
   "cell_type": "code",
   "execution_count": 25,
   "metadata": {},
   "outputs": [
    {
     "data": {
      "text/plain": [
       "<matplotlib.legend.Legend at 0x7fd7dfed99b0>"
      ]
     },
     "execution_count": 25,
     "metadata": {},
     "output_type": "execute_result"
    },
    {
     "data": {
      "image/png": "[encoded data removed]",
      "text/plain": [
       "<Figure size 432x288 with 1 Axes>"
      ]
     },
     "metadata": {
      "needs_background": "light"
     },
     "output_type": "display_data"
    }
   ],
   "source": [
    "plt.plot(myTwissDF.s,myTwissDF.betx,'b',label='$\\\\beta_x$')\n",
    "plt.plot(myTwissDF.s,myTwissDF.bety,'r',label='$\\\\beta_y$')\n",
    "plt.xlabel('s [m]')\n",
    "plt.ylabel('[m]')\n",
    "plt.grid()\n",
    "plt.legend(loc='best')"
   ]
  },
  {
   "cell_type": "markdown",
   "metadata": {},
   "source": [
    "# Survey"
   ]
  },
  {
   "cell_type": "code",
   "execution_count": 26,
   "metadata": {},
   "outputs": [],
   "source": [
    "mySurvey=madx.survey(sequence='FODO')"
   ]
  },
  {
   "cell_type": "code",
   "execution_count": 27,
   "metadata": {},
   "outputs": [],
   "source": [
    "mySurveyDF=mySurvey.dframe()"
   ]
  },
  {
   "cell_type": "code",
   "execution_count": 28,
   "metadata": {},
   "outputs": [
    {
     "data": {
      "text/plain": [
       "[<matplotlib.lines.Line2D at 0x7fd7dff4a630>]"
      ]
     },
     "execution_count": 28,
     "metadata": {},
     "output_type": "execute_result"
    },
    {
     "data": {
      "image/png": "[encoded data removed]",
      "text/plain": [
       "<Figure size 432x288 with 1 Axes>"
      ]
     },
     "metadata": {
      "needs_background": "light"
     },
     "output_type": "display_data"
    }
   ],
   "source": [
    "plt.plot(mySurveyDF['s'],mySurveyDF['z'])"
   ]
  },
  {
   "cell_type": "markdown",
   "metadata": {},
   "source": [
    "### The input command"
   ]
  },
  {
   "cell_type": "code",
   "execution_count": 29,
   "metadata": {},
   "outputs": [
    {
     "name": "stdout",
     "output_type": "stream",
     "text": [
      "lcell              =                100 ;\n",
      "lcell              =                100 ;\n",
      "lcell              =                100 ;\n",
      "lcell              =                100 ;\n"
     ]
    }
   ],
   "source": [
    "madx.input('''value lcell;\n",
    "              value lcell;\n",
    "              value lcell;\n",
    "              value lcell;\n",
    "              ''');"
   ]
  },
  {
   "cell_type": "code",
   "execution_count": 30,
   "metadata": {},
   "outputs": [
    {
     "name": "stdout",
     "output_type": "stream",
     "text": [
      "['version', 'pi', 'twopi', 'degrad', 'raddeg', 'e', 'amu0', 'emass', 'mumass', 'nmass', 'pmass', 'clight', 'qelect', 'hbar', 'erad', 'prad', 'none', 'twiss_tol', 'lcell', 'f', 'k1fl', 'k1dl', 'tar', '__0__', '__1__', '__2__', '__3__', '__4__', '__5__']\n"
     ]
    }
   ],
   "source": [
    "# globals\n",
    "print(list(madx.globals))"
   ]
  },
  {
   "cell_type": "code",
   "execution_count": 31,
   "metadata": {},
   "outputs": [
    {
     "name": "stdout",
     "output_type": "stream",
     "text": [
      "['summ', 'twiss', 'embedded_twiss_table', 'survey', 'sectortable']\n"
     ]
    }
   ],
   "source": [
    "print(list(madx.table))"
   ]
  },
  {
   "cell_type": "code",
   "execution_count": 32,
   "metadata": {},
   "outputs": [
    {
     "data": {
      "text/html": [
       "<div>\n",
       "<style scoped>\n",
       "    .dataframe tbody tr th:only-of-type {\n",
       "        vertical-align: middle;\n",
       "    }\n",
       "\n",
       "    .dataframe tbody tr th {\n",
       "        vertical-align: top;\n",
       "    }\n",
       "\n",
       "    .dataframe thead th {\n",
       "        text-align: right;\n",
       "    }\n",
       "</style>\n",
       "<table border=\"1\" class=\"dataframe\">\n",
       "  <thead>\n",
       "    <tr style=\"text-align: right;\">\n",
       "      <th></th>\n",
       "      <th>#e</th>\n",
       "    </tr>\n",
       "  </thead>\n",
       "  <tbody>\n",
       "    <tr>\n",
       "      <th>length</th>\n",
       "      <td>100.000000</td>\n",
       "    </tr>\n",
       "    <tr>\n",
       "      <th>orbit5</th>\n",
       "      <td>-0.000000</td>\n",
       "    </tr>\n",
       "    <tr>\n",
       "      <th>alfa</th>\n",
       "      <td>0.000000</td>\n",
       "    </tr>\n",
       "    <tr>\n",
       "      <th>gammatr</th>\n",
       "      <td>0.000000</td>\n",
       "    </tr>\n",
       "    <tr>\n",
       "      <th>q1</th>\n",
       "      <td>0.166667</td>\n",
       "    </tr>\n",
       "    <tr>\n",
       "      <th>dq1</th>\n",
       "      <td>-0.531302</td>\n",
       "    </tr>\n",
       "    <tr>\n",
       "      <th>betxmax</th>\n",
       "      <td>173.205081</td>\n",
       "    </tr>\n",
       "    <tr>\n",
       "      <th>dxmax</th>\n",
       "      <td>0.000000</td>\n",
       "    </tr>\n",
       "    <tr>\n",
       "      <th>dxrms</th>\n",
       "      <td>0.000000</td>\n",
       "    </tr>\n",
       "    <tr>\n",
       "      <th>xcomax</th>\n",
       "      <td>0.000000</td>\n",
       "    </tr>\n",
       "    <tr>\n",
       "      <th>xcorms</th>\n",
       "      <td>0.000000</td>\n",
       "    </tr>\n",
       "    <tr>\n",
       "      <th>q2</th>\n",
       "      <td>0.166667</td>\n",
       "    </tr>\n",
       "    <tr>\n",
       "      <th>dq2</th>\n",
       "      <td>-0.531302</td>\n",
       "    </tr>\n",
       "    <tr>\n",
       "      <th>betymax</th>\n",
       "      <td>173.205081</td>\n",
       "    </tr>\n",
       "    <tr>\n",
       "      <th>dymax</th>\n",
       "      <td>-0.000000</td>\n",
       "    </tr>\n",
       "    <tr>\n",
       "      <th>dyrms</th>\n",
       "      <td>0.000000</td>\n",
       "    </tr>\n",
       "    <tr>\n",
       "      <th>ycomax</th>\n",
       "      <td>0.000000</td>\n",
       "    </tr>\n",
       "    <tr>\n",
       "      <th>ycorms</th>\n",
       "      <td>0.000000</td>\n",
       "    </tr>\n",
       "    <tr>\n",
       "      <th>deltap</th>\n",
       "      <td>0.000000</td>\n",
       "    </tr>\n",
       "    <tr>\n",
       "      <th>synch_1</th>\n",
       "      <td>0.000000</td>\n",
       "    </tr>\n",
       "    <tr>\n",
       "      <th>synch_2</th>\n",
       "      <td>0.000000</td>\n",
       "    </tr>\n",
       "    <tr>\n",
       "      <th>synch_3</th>\n",
       "      <td>0.000000</td>\n",
       "    </tr>\n",
       "    <tr>\n",
       "      <th>synch_4</th>\n",
       "      <td>0.000000</td>\n",
       "    </tr>\n",
       "    <tr>\n",
       "      <th>synch_5</th>\n",
       "      <td>0.000000</td>\n",
       "    </tr>\n",
       "    <tr>\n",
       "      <th>nflips</th>\n",
       "      <td>0.000000</td>\n",
       "    </tr>\n",
       "  </tbody>\n",
       "</table>\n",
       "</div>"
      ],
      "text/plain": [
       "                 #e\n",
       "length   100.000000\n",
       "orbit5    -0.000000\n",
       "alfa       0.000000\n",
       "gammatr    0.000000\n",
       "q1         0.166667\n",
       "dq1       -0.531302\n",
       "betxmax  173.205081\n",
       "dxmax      0.000000\n",
       "dxrms      0.000000\n",
       "xcomax     0.000000\n",
       "xcorms     0.000000\n",
       "q2         0.166667\n",
       "dq2       -0.531302\n",
       "betymax  173.205081\n",
       "dymax     -0.000000\n",
       "dyrms      0.000000\n",
       "ycomax     0.000000\n",
       "ycorms     0.000000\n",
       "deltap     0.000000\n",
       "synch_1    0.000000\n",
       "synch_2    0.000000\n",
       "synch_3    0.000000\n",
       "synch_4    0.000000\n",
       "synch_5    0.000000\n",
       "nflips     0.000000"
      ]
     },
     "execution_count": 32,
     "metadata": {},
     "output_type": "execute_result"
    }
   ],
   "source": [
    "madx.table['summ'].dframe().transpose()"
   ]
  },
  {
   "cell_type": "code",
   "execution_count": 33,
   "metadata": {},
   "outputs": [
    {
     "name": "stdout",
     "output_type": "stream",
     "text": [
      "['fodo']\n"
     ]
    }
   ],
   "source": [
    "print(list(madx.sequence))"
   ]
  },
  {
   "cell_type": "code",
   "execution_count": 34,
   "metadata": {},
   "outputs": [],
   "source": [
    "a=madx.sequence.fodo"
   ]
  },
  {
   "cell_type": "code",
   "execution_count": 35,
   "metadata": {},
   "outputs": [
    {
     "data": {
      "text/plain": [
       "beam, particle=proton, sequence=default_beam, bunched=true, radiate=false, mass=0.9382720813, charge=1.0, energy=1.0, pc=0.34589810848422725, gamma=1.065788932581767, beta=0.34589810848422725, brho=1.153791895872935, ex=1.0, exn=0.36865437582345684, ey=1.0, eyn=0.36865437582345684, et=0.001, sigt=1.0, sige=0.001, kbunch=1.0, npart=0.0, bcurrent=0.0, freq0=1.0369764416003715, circ=100.0, dtbyds=0.0, deltap=0.0, alfa=0.8803544985470338, u0=0.0, qs=0.0, arad=1.534698264921138e-18, bv=1.0, pdamp={1.0,1.0,2.0}, n1min=-1.0;"
      ]
     },
     "execution_count": 35,
     "metadata": {},
     "output_type": "execute_result"
    }
   ],
   "source": [
    "a.beam"
   ]
  },
  {
   "cell_type": "code",
   "execution_count": 36,
   "metadata": {},
   "outputs": [
    {
     "name": "stdout",
     "output_type": "stream",
     "text": [
      "enter Twiss module\n",
      "\n",
      "++++++ table: summ\n",
      "\n",
      "            length             orbit5               alfa            gammatr \n",
      "               100                 -0                  0                  0 \n",
      "\n",
      "                q1                dq1            betxmax              dxmax \n",
      "      0.1666666665      -0.5313018308        173.2050808                  0 \n",
      "\n",
      "             dxrms             xcomax             xcorms                 q2 \n",
      "                 0                  0                  0       0.1666666665 \n",
      "\n",
      "               dq2            betymax              dymax              dyrms \n",
      "     -0.5313018308        173.2050808                 -0                  0 \n",
      "\n",
      "            ycomax             ycorms             deltap            synch_1 \n",
      "                 0                  0                  0                  0 \n",
      "\n",
      "           synch_2            synch_3            synch_4            synch_5 \n",
      "                 0                  0                  0                  0 \n",
      "\n",
      "            nflips \n",
      "                 0 \n"
     ]
    },
    {
     "data": {
      "text/plain": [
       "array([[[ 1.00000000e+00,  0.00000000e+00,  0.00000000e+00,\n",
       "          0.00000000e+00,  0.00000000e+00,  0.00000000e+00,\n",
       "          0.00000000e+00],\n",
       "        [ 0.00000000e+00,  1.00000000e+00,  0.00000000e+00,\n",
       "          0.00000000e+00,  0.00000000e+00,  0.00000000e+00,\n",
       "          0.00000000e+00],\n",
       "        [ 0.00000000e+00,  0.00000000e+00,  1.00000000e+00,\n",
       "          0.00000000e+00,  0.00000000e+00,  0.00000000e+00,\n",
       "          0.00000000e+00],\n",
       "        [ 0.00000000e+00,  0.00000000e+00,  0.00000000e+00,\n",
       "          1.00000000e+00,  0.00000000e+00,  0.00000000e+00,\n",
       "          0.00000000e+00],\n",
       "        [ 0.00000000e+00,  0.00000000e+00,  0.00000000e+00,\n",
       "          0.00000000e+00,  1.00000000e+00,  0.00000000e+00,\n",
       "          0.00000000e+00],\n",
       "        [ 0.00000000e+00,  0.00000000e+00,  0.00000000e+00,\n",
       "          0.00000000e+00,  0.00000000e+00,  1.00000000e+00,\n",
       "          0.00000000e+00],\n",
       "        [ 0.00000000e+00,  0.00000000e+00,  0.00000000e+00,\n",
       "          0.00000000e+00,  0.00000000e+00,  0.00000000e+00,\n",
       "          1.00000000e+00]],\n",
       "\n",
       "       [[-9.99999998e-01,  1.50000000e+02,  0.00000000e+00,\n",
       "          0.00000000e+00,  0.00000000e+00,  0.00000000e+00,\n",
       "          0.00000000e+00],\n",
       "        [-2.00000000e-02,  2.00000000e+00,  0.00000000e+00,\n",
       "          0.00000000e+00,  0.00000000e+00,  0.00000000e+00,\n",
       "          0.00000000e+00],\n",
       "        [ 0.00000000e+00,  0.00000000e+00,  1.00000000e+00,\n",
       "          5.00000000e+01,  0.00000000e+00,  0.00000000e+00,\n",
       "          0.00000000e+00],\n",
       "        [ 0.00000000e+00,  0.00000000e+00, -2.00000000e-02,\n",
       "          7.28355598e-10,  0.00000000e+00,  0.00000000e+00,\n",
       "          0.00000000e+00],\n",
       "        [ 0.00000000e+00,  0.00000000e+00,  0.00000000e+00,\n",
       "          0.00000000e+00,  1.00000000e+00,  7.35802423e+02,\n",
       "          0.00000000e+00],\n",
       "        [ 0.00000000e+00,  0.00000000e+00,  0.00000000e+00,\n",
       "          0.00000000e+00,  0.00000000e+00,  1.00000000e+00,\n",
       "          0.00000000e+00],\n",
       "        [ 0.00000000e+00,  0.00000000e+00,  0.00000000e+00,\n",
       "          0.00000000e+00,  0.00000000e+00,  0.00000000e+00,\n",
       "          1.00000000e+00]]])"
      ]
     },
     "execution_count": 36,
     "metadata": {},
     "output_type": "execute_result"
    }
   ],
   "source": [
    "madx.sectormap(['fodo$start','fodo$end'])"
   ]
  },
  {
   "cell_type": "code",
   "execution_count": 45,
   "metadata": {},
   "outputs": [
    {
     "data": {
      "text/plain": [
       "0.0"
      ]
     },
     "execution_count": 45,
     "metadata": {},
     "output_type": "execute_result"
    }
   ],
   "source": [
    "import numpy as np\n",
    "np.linalg.det(madx.sectortable()[0])-1"
   ]
  },
  {
   "cell_type": "code",
   "execution_count": 61,
   "metadata": {},
   "outputs": [
    {
     "data": {
      "text/plain": [
       "array([[-9.99999998e-01,  1.50000000e+02,  0.00000000e+00,\n",
       "         0.00000000e+00,  0.00000000e+00,  0.00000000e+00,\n",
       "         0.00000000e+00],\n",
       "       [-2.00000000e-02,  2.00000000e+00,  0.00000000e+00,\n",
       "         0.00000000e+00,  0.00000000e+00,  0.00000000e+00,\n",
       "         0.00000000e+00],\n",
       "       [ 0.00000000e+00,  0.00000000e+00,  1.00000000e+00,\n",
       "         5.00000000e+01,  0.00000000e+00,  0.00000000e+00,\n",
       "         0.00000000e+00],\n",
       "       [ 0.00000000e+00,  0.00000000e+00, -2.00000000e-02,\n",
       "         7.28355598e-10,  0.00000000e+00,  0.00000000e+00,\n",
       "         0.00000000e+00],\n",
       "       [ 0.00000000e+00,  0.00000000e+00,  0.00000000e+00,\n",
       "         0.00000000e+00,  1.00000000e+00,  7.35802423e+02,\n",
       "         0.00000000e+00],\n",
       "       [ 0.00000000e+00,  0.00000000e+00,  0.00000000e+00,\n",
       "         0.00000000e+00,  0.00000000e+00,  1.00000000e+00,\n",
       "         0.00000000e+00],\n",
       "       [ 0.00000000e+00,  0.00000000e+00,  0.00000000e+00,\n",
       "         0.00000000e+00,  0.00000000e+00,  0.00000000e+00,\n",
       "         1.00000000e+00]])"
      ]
     },
     "execution_count": 61,
     "metadata": {},
     "output_type": "execute_result"
    }
   ],
   "source": [
    "madx.sectortable()[1]"
   ]
  },
  {
   "cell_type": "code",
   "execution_count": 60,
   "metadata": {},
   "outputs": [
    {
     "data": {
      "text/plain": [
       "6.661338147750939e-16"
      ]
     },
     "execution_count": 60,
     "metadata": {},
     "output_type": "execute_result"
    }
   ],
   "source": [
    "np.linalg.det(madx.sectortable()[1][:5,:5])-1"
   ]
  },
  {
   "cell_type": "code",
   "execution_count": 58,
   "metadata": {},
   "outputs": [
    {
     "data": {
      "text/plain": [
       "array([[-9.99999998e-01,  1.50000000e+02,  0.00000000e+00,\n",
       "         0.00000000e+00,  0.00000000e+00,  0.00000000e+00,\n",
       "         0.00000000e+00],\n",
       "       [-2.00000000e-02,  2.00000000e+00,  0.00000000e+00,\n",
       "         0.00000000e+00,  0.00000000e+00,  0.00000000e+00,\n",
       "         0.00000000e+00],\n",
       "       [ 0.00000000e+00,  0.00000000e+00,  1.00000000e+00,\n",
       "         5.00000000e+01,  0.00000000e+00,  0.00000000e+00,\n",
       "         0.00000000e+00],\n",
       "       [ 0.00000000e+00,  0.00000000e+00, -2.00000000e-02,\n",
       "         7.28355598e-10,  0.00000000e+00,  0.00000000e+00,\n",
       "         0.00000000e+00],\n",
       "       [ 0.00000000e+00,  0.00000000e+00,  0.00000000e+00,\n",
       "         0.00000000e+00,  1.00000000e+00,  7.35802423e+02,\n",
       "         0.00000000e+00],\n",
       "       [ 0.00000000e+00,  0.00000000e+00,  0.00000000e+00,\n",
       "         0.00000000e+00,  0.00000000e+00,  1.00000000e+00,\n",
       "         0.00000000e+00],\n",
       "       [ 0.00000000e+00,  0.00000000e+00,  0.00000000e+00,\n",
       "         0.00000000e+00,  0.00000000e+00,  0.00000000e+00,\n",
       "         1.00000000e+00]])"
      ]
     },
     "execution_count": 58,
     "metadata": {},
     "output_type": "execute_result"
    }
   ],
   "source": [
    "madx.sectortable()[1]"
   ]
  },
  {
   "cell_type": "code",
   "execution_count": 62,
   "metadata": {},
   "outputs": [
    {
     "data": {
      "text/plain": [
       "KeysView(beam, particle=positron, bunched=true, radiate=false, mass=0.0005109989461, charge=1.0, energy=1.0, pc=0.0, gamma=0.0, beta=0.0, brho=0.0, ex=1.0, exn=0.0, ey=1.0, eyn=0.0, et=0.001, sigt=1.0, sige=0.001, kbunch=1.0, npart=1.0, bcurrent=0.0, freq0=0.0, circ=0.0, dtbyds=0.0, deltap=0.0, alfa=0.0, u0=0.0, qs=0.0, arad=0.0, bv=1.0, pdamp={1.0,1.0,2.0}, n1min=-1.0;)"
      ]
     },
     "execution_count": 62,
     "metadata": {},
     "output_type": "execute_result"
    }
   ],
   "source": [
    "madx.beam.keys()"
   ]
  },
  {
   "cell_type": "code",
   "execution_count": 63,
   "metadata": {},
   "outputs": [
    {
     "data": {
      "text/plain": [
       "beam, particle=proton, sequence=default_beam, bunched=true, radiate=false, mass=0.9382720813, charge=1.0, energy=1.0, pc=0.34589810848422725, gamma=1.065788932581767, beta=0.34589810848422725, brho=1.153791895872935, ex=1.0, exn=0.36865437582345684, ey=1.0, eyn=0.36865437582345684, et=0.001, sigt=1.0, sige=0.001, kbunch=1.0, npart=0.0, bcurrent=0.0, freq0=1.0369764416003715, circ=100.0, dtbyds=0.0, deltap=0.0, alfa=0.8803544985470338, u0=0.0, qs=0.0, arad=1.534698264921138e-18, bv=1.0, pdamp={1.0,1.0,2.0}, n1min=-1.0;"
      ]
     },
     "execution_count": 63,
     "metadata": {},
     "output_type": "execute_result"
    }
   ],
   "source": [
    "madx.sequence.fodo.beam"
   ]
  },
  {
   "cell_type": "code",
   "execution_count": 64,
   "metadata": {},
   "outputs": [
    {
     "data": {
      "text/html": [
       "<div>\n",
       "<style scoped>\n",
       "    .dataframe tbody tr th:only-of-type {\n",
       "        vertical-align: middle;\n",
       "    }\n",
       "\n",
       "    .dataframe tbody tr th {\n",
       "        vertical-align: top;\n",
       "    }\n",
       "\n",
       "    .dataframe thead th {\n",
       "        text-align: right;\n",
       "    }\n",
       "</style>\n",
       "<table border=\"1\" class=\"dataframe\">\n",
       "  <thead>\n",
       "    <tr style=\"text-align: right;\">\n",
       "      <th></th>\n",
       "      <th>name</th>\n",
       "      <th>keyword</th>\n",
       "      <th>s</th>\n",
       "      <th>betx</th>\n",
       "      <th>alfx</th>\n",
       "      <th>mux</th>\n",
       "      <th>bety</th>\n",
       "      <th>alfy</th>\n",
       "      <th>muy</th>\n",
       "      <th>x</th>\n",
       "      <th>...</th>\n",
       "      <th>sig54</th>\n",
       "      <th>sig55</th>\n",
       "      <th>sig56</th>\n",
       "      <th>sig61</th>\n",
       "      <th>sig62</th>\n",
       "      <th>sig63</th>\n",
       "      <th>sig64</th>\n",
       "      <th>sig65</th>\n",
       "      <th>sig66</th>\n",
       "      <th>n1</th>\n",
       "    </tr>\n",
       "  </thead>\n",
       "  <tbody>\n",
       "    <tr>\n",
       "      <th>#s</th>\n",
       "      <td>fodo$start:1</td>\n",
       "      <td>marker</td>\n",
       "      <td>0.0</td>\n",
       "      <td>173.205081</td>\n",
       "      <td>-1.732051</td>\n",
       "      <td>0.000000</td>\n",
       "      <td>57.735027</td>\n",
       "      <td>0.577350</td>\n",
       "      <td>0.000000</td>\n",
       "      <td>0.0</td>\n",
       "      <td>...</td>\n",
       "      <td>0.0</td>\n",
       "      <td>0.0</td>\n",
       "      <td>0.0</td>\n",
       "      <td>0.0</td>\n",
       "      <td>0.0</td>\n",
       "      <td>0.0</td>\n",
       "      <td>0.0</td>\n",
       "      <td>0.0</td>\n",
       "      <td>0.0</td>\n",
       "      <td>0.0</td>\n",
       "    </tr>\n",
       "    <tr>\n",
       "      <th>qf</th>\n",
       "      <td>qf:1</td>\n",
       "      <td>multipole</td>\n",
       "      <td>0.0</td>\n",
       "      <td>173.205081</td>\n",
       "      <td>1.732051</td>\n",
       "      <td>0.000000</td>\n",
       "      <td>57.735027</td>\n",
       "      <td>-0.577350</td>\n",
       "      <td>0.000000</td>\n",
       "      <td>0.0</td>\n",
       "      <td>...</td>\n",
       "      <td>0.0</td>\n",
       "      <td>0.0</td>\n",
       "      <td>0.0</td>\n",
       "      <td>0.0</td>\n",
       "      <td>0.0</td>\n",
       "      <td>0.0</td>\n",
       "      <td>0.0</td>\n",
       "      <td>0.0</td>\n",
       "      <td>0.0</td>\n",
       "      <td>0.0</td>\n",
       "    </tr>\n",
       "    <tr>\n",
       "      <th>drift_0[0]</th>\n",
       "      <td>drift_0:0</td>\n",
       "      <td>drift</td>\n",
       "      <td>50.0</td>\n",
       "      <td>57.735027</td>\n",
       "      <td>0.577350</td>\n",
       "      <td>0.083333</td>\n",
       "      <td>173.205081</td>\n",
       "      <td>-1.732051</td>\n",
       "      <td>0.083333</td>\n",
       "      <td>0.0</td>\n",
       "      <td>...</td>\n",
       "      <td>0.0</td>\n",
       "      <td>0.0</td>\n",
       "      <td>0.0</td>\n",
       "      <td>0.0</td>\n",
       "      <td>0.0</td>\n",
       "      <td>0.0</td>\n",
       "      <td>0.0</td>\n",
       "      <td>0.0</td>\n",
       "      <td>0.0</td>\n",
       "      <td>0.0</td>\n",
       "    </tr>\n",
       "    <tr>\n",
       "      <th>qd</th>\n",
       "      <td>qd:1</td>\n",
       "      <td>multipole</td>\n",
       "      <td>50.0</td>\n",
       "      <td>57.735027</td>\n",
       "      <td>-0.577350</td>\n",
       "      <td>0.083333</td>\n",
       "      <td>173.205081</td>\n",
       "      <td>1.732051</td>\n",
       "      <td>0.083333</td>\n",
       "      <td>0.0</td>\n",
       "      <td>...</td>\n",
       "      <td>0.0</td>\n",
       "      <td>0.0</td>\n",
       "      <td>0.0</td>\n",
       "      <td>0.0</td>\n",
       "      <td>0.0</td>\n",
       "      <td>0.0</td>\n",
       "      <td>0.0</td>\n",
       "      <td>0.0</td>\n",
       "      <td>0.0</td>\n",
       "      <td>0.0</td>\n",
       "    </tr>\n",
       "    <tr>\n",
       "      <th>drift_1[0]</th>\n",
       "      <td>drift_1:0</td>\n",
       "      <td>drift</td>\n",
       "      <td>100.0</td>\n",
       "      <td>173.205081</td>\n",
       "      <td>-1.732051</td>\n",
       "      <td>0.166667</td>\n",
       "      <td>57.735027</td>\n",
       "      <td>0.577350</td>\n",
       "      <td>0.166667</td>\n",
       "      <td>0.0</td>\n",
       "      <td>...</td>\n",
       "      <td>0.0</td>\n",
       "      <td>0.0</td>\n",
       "      <td>0.0</td>\n",
       "      <td>0.0</td>\n",
       "      <td>0.0</td>\n",
       "      <td>0.0</td>\n",
       "      <td>0.0</td>\n",
       "      <td>0.0</td>\n",
       "      <td>0.0</td>\n",
       "      <td>0.0</td>\n",
       "    </tr>\n",
       "    <tr>\n",
       "      <th>#e</th>\n",
       "      <td>fodo$end:1</td>\n",
       "      <td>marker</td>\n",
       "      <td>100.0</td>\n",
       "      <td>173.205081</td>\n",
       "      <td>-1.732051</td>\n",
       "      <td>0.166667</td>\n",
       "      <td>57.735027</td>\n",
       "      <td>0.577350</td>\n",
       "      <td>0.166667</td>\n",
       "      <td>0.0</td>\n",
       "      <td>...</td>\n",
       "      <td>0.0</td>\n",
       "      <td>0.0</td>\n",
       "      <td>0.0</td>\n",
       "      <td>0.0</td>\n",
       "      <td>0.0</td>\n",
       "      <td>0.0</td>\n",
       "      <td>0.0</td>\n",
       "      <td>0.0</td>\n",
       "      <td>0.0</td>\n",
       "      <td>0.0</td>\n",
       "    </tr>\n",
       "  </tbody>\n",
       "</table>\n",
       "<p>6 rows × 256 columns</p>\n",
       "</div>"
      ],
      "text/plain": [
       "                    name    keyword      s        betx      alfx       mux  \\\n",
       "#s          fodo$start:1     marker    0.0  173.205081 -1.732051  0.000000   \n",
       "qf                  qf:1  multipole    0.0  173.205081  1.732051  0.000000   \n",
       "drift_0[0]     drift_0:0      drift   50.0   57.735027  0.577350  0.083333   \n",
       "qd                  qd:1  multipole   50.0   57.735027 -0.577350  0.083333   \n",
       "drift_1[0]     drift_1:0      drift  100.0  173.205081 -1.732051  0.166667   \n",
       "#e            fodo$end:1     marker  100.0  173.205081 -1.732051  0.166667   \n",
       "\n",
       "                  bety      alfy       muy    x  ...  sig54  sig55  sig56  \\\n",
       "#s           57.735027  0.577350  0.000000  0.0  ...    0.0    0.0    0.0   \n",
       "qf           57.735027 -0.577350  0.000000  0.0  ...    0.0    0.0    0.0   \n",
       "drift_0[0]  173.205081 -1.732051  0.083333  0.0  ...    0.0    0.0    0.0   \n",
       "qd          173.205081  1.732051  0.083333  0.0  ...    0.0    0.0    0.0   \n",
       "drift_1[0]   57.735027  0.577350  0.166667  0.0  ...    0.0    0.0    0.0   \n",
       "#e           57.735027  0.577350  0.166667  0.0  ...    0.0    0.0    0.0   \n",
       "\n",
       "            sig61  sig62  sig63  sig64  sig65  sig66   n1  \n",
       "#s            0.0    0.0    0.0    0.0    0.0    0.0  0.0  \n",
       "qf            0.0    0.0    0.0    0.0    0.0    0.0  0.0  \n",
       "drift_0[0]    0.0    0.0    0.0    0.0    0.0    0.0  0.0  \n",
       "qd            0.0    0.0    0.0    0.0    0.0    0.0  0.0  \n",
       "drift_1[0]    0.0    0.0    0.0    0.0    0.0    0.0  0.0  \n",
       "#e            0.0    0.0    0.0    0.0    0.0    0.0  0.0  \n",
       "\n",
       "[6 rows x 256 columns]"
      ]
     },
     "execution_count": 64,
     "metadata": {},
     "output_type": "execute_result"
    }
   ],
   "source": [
    "madx.sequence.fodo.twiss_table.dframe()"
   ]
  },
  {
   "cell_type": "code",
   "execution_count": 65,
   "metadata": {},
   "outputs": [
    {
     "data": {
      "text/plain": [
       "qd: multipole, at=50.0, knl={0.0,-0.01999999998543289};"
      ]
     },
     "execution_count": 65,
     "metadata": {},
     "output_type": "execute_result"
    }
   ],
   "source": [
    "madx.sequence.fodo.elements['qd']"
   ]
  },
  {
   "cell_type": "code",
   "execution_count": null,
   "metadata": {},
   "outputs": [],
   "source": []
  }
 ],
 "metadata": {
  "kernelspec": {
   "display_name": "Python 3 (ipykernel)",
   "language": "python",
   "name": "python3"
  },
  "language_info": {
   "codemirror_mode": {
    "name": "ipython",
    "version": 3
   },
   "file_extension": ".py",
   "mimetype": "text/x-python",
   "name": "python",
   "nbconvert_exporter": "python",
   "pygments_lexer": "ipython3",
   "version": "3.9.13"
  }
 },
 "nbformat": 4,
 "nbformat_minor": 4
}
