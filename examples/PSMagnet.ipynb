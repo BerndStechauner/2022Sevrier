{
 "cells": [
  {
   "cell_type": "markdown",
   "metadata": {},
   "source": [
    "# PS BGI magnet\n",
    "This is a simplified example to start to play with. If we are interested on the closed orbit and if the bump of the PS BGI magnet is close, we can study the problem is a very simplified way. "
   ]
  },
  {
   "cell_type": "code",
   "execution_count": 136,
   "metadata": {},
   "outputs": [
    {
     "name": "stdout",
     "output_type": "stream",
     "text": [
      "Guido is 4.0000\n"
     ]
    }
   ],
   "source": [
    "car=4\n",
    "print(f'Guido is {car:1.4f}')"
   ]
  },
  {
   "cell_type": "code",
   "execution_count": 137,
   "metadata": {},
   "outputs": [],
   "source": [
    "# as usual we will use MAD-X via python\n",
    "from cpymad.madx import Madx\n",
    "\n",
    "# standard packages and modules\n",
    "import numpy as np\n",
    "import matplotlib.pyplot as plt\n",
    "import matplotlib.patches as patches\n",
    "\n",
    "# standard configurations\n",
    "get_ipython().magic('matplotlib inline')\n"
   ]
  },
  {
   "cell_type": "code",
   "execution_count": 138,
   "metadata": {},
   "outputs": [],
   "source": [
    "L1=.15\n",
    "L2=.30\n",
    "L3=.15\n",
    "field1_T=0.2\n",
    "field2_T=-0.2\n",
    "field3_T=0.2\n",
    "\n",
    "N1=20\n",
    "N2=40\n",
    "N3=20\n",
    "\n",
    "pc_GeV=2.1\n",
    "Brho_Tm=10**9/299792458*pc_GeV\n",
    "\n",
    "angle1=field1_T*L1/Brho_Tm\n",
    "angle2=field2_T*L2/Brho_Tm\n",
    "angle3=field3_T*L3/Brho_Tm\n",
    "\n",
    "\n",
    "madx = Madx(stdout=False)\n",
    "\n",
    "\n",
    "myString1=f'''\n",
    "L1={L1};\n",
    "L2={L2};\n",
    "L3={L3};\n",
    "totalLength=L1+L2+L3;\n",
    "\n",
    "\n",
    "k1: hkicker, l=0, kick={angle1/N1};\n",
    "k2: hkicker, l=0, kick={angle2/N2};\n",
    "k3: hkicker, l=0, kick={angle3/N3};\n",
    "\n",
    "\n",
    "option, warn=false;\n",
    "PSBGI: sequence, refer=center, l=totalLength;\n",
    "start_machine: marker, at = 0;\\n'''\n",
    "\n",
    "myString2=''\n",
    "for i in range(N1):\n",
    "    myString2=myString2+f'''myk1_{i}:k1,at={i*L1/N1+L1/N1/2:1.7};\\n'''\n",
    "for i in range(N2):\n",
    "    myString2=myString2+f'''myk2_{i}:k2,at=L1+{i*L2/N2+L2/N2/2:1.7};\\n'''\n",
    "for i in range(N3):\n",
    "    myString2=myString2+f'''myk3_{i}:k3,at=L1+L2+{i*L3/N3+L3/N3/2:1.7};\\n'''\n",
    "\n",
    "    \n",
    "myString3=f'''end_machine: marker at=totalLength;\n",
    "endsequence;\n",
    "beam, particle = proton, sequence=PSBGI, pc = {pc_GeV};\n",
    "\n",
    "use, sequence=PSBGI;\n",
    "twiss, betx=1, bety=1;'''\n",
    "\n",
    "madx.input(myString1+myString2+myString3)\n",
    "myTwiss=madx.table.twiss.dframe()"
   ]
  },
  {
   "cell_type": "code",
   "execution_count": 139,
   "metadata": {},
   "outputs": [
    {
     "name": "stdout",
     "output_type": "stream",
     "text": [
      "\n",
      "L1=0.15;\n",
      "L2=0.3;\n",
      "L3=0.15;\n",
      "totalLength=L1+L2+L3;\n",
      "\n",
      "\n",
      "k1: hkicker, l=0, kick=0.00021413747;\n",
      "k2: hkicker, l=0, kick=-0.00021413747;\n",
      "k3: hkicker, l=0, kick=0.00021413747;\n",
      "\n",
      "\n",
      "option, warn=false;\n",
      "PSBGI: sequence, refer=center, l=totalLength;\n",
      "start_machine: marker, at = 0;\n",
      "myk1_0:k1,at=0.00375;\n",
      "myk1_1:k1,at=0.01125;\n",
      "myk1_2:k1,at=0.01875;\n",
      "myk1_3:k1,at=0.02625;\n",
      "myk1_4:k1,at=0.03375;\n",
      "myk1_5:k1,at=0.04125;\n",
      "myk1_6:k1,at=0.04875;\n",
      "myk1_7:k1,at=0.05625;\n",
      "myk1_8:k1,at=0.06375;\n",
      "myk1_9:k1,at=0.07125;\n",
      "myk1_10:k1,at=0.07875;\n",
      "myk1_11:k1,at=0.08625;\n",
      "myk1_12:k1,at=0.09375;\n",
      "myk1_13:k1,at=0.10125;\n",
      "myk1_14:k1,at=0.10875;\n",
      "myk1_15:k1,at=0.11625;\n",
      "myk1_16:k1,at=0.12375;\n",
      "myk1_17:k1,at=0.13125;\n",
      "myk1_18:k1,at=0.13875;\n",
      "myk1_19:k1,at=0.14625;\n",
      "myk2_0:k2,at=L1+0.00375;\n",
      "myk2_1:k2,at=L1+0.01125;\n",
      "myk2_2:k2,at=L1+0.01875;\n",
      "myk2_3:k2,at=L1+0.02625;\n",
      "myk2_4:k2,at=L1+0.03375;\n",
      "myk2_5:k2,at=L1+0.04125;\n",
      "myk2_6:k2,at=L1+0.04875;\n",
      "myk2_7:k2,at=L1+0.05625;\n",
      "myk2_8:k2,at=L1+0.06375;\n",
      "myk2_9:k2,at=L1+0.07125;\n",
      "myk2_10:k2,at=L1+0.07875;\n",
      "myk2_11:k2,at=L1+0.08625;\n",
      "myk2_12:k2,at=L1+0.09375;\n",
      "myk2_13:k2,at=L1+0.10125;\n",
      "myk2_14:k2,at=L1+0.10875;\n",
      "myk2_15:k2,at=L1+0.11625;\n",
      "myk2_16:k2,at=L1+0.12375;\n",
      "myk2_17:k2,at=L1+0.13125;\n",
      "myk2_18:k2,at=L1+0.13875;\n",
      "myk2_19:k2,at=L1+0.14625;\n",
      "myk2_20:k2,at=L1+0.15375;\n",
      "myk2_21:k2,at=L1+0.16125;\n",
      "myk2_22:k2,at=L1+0.16875;\n",
      "myk2_23:k2,at=L1+0.17625;\n",
      "myk2_24:k2,at=L1+0.18375;\n",
      "myk2_25:k2,at=L1+0.19125;\n",
      "myk2_26:k2,at=L1+0.19875;\n",
      "myk2_27:k2,at=L1+0.20625;\n",
      "myk2_28:k2,at=L1+0.21375;\n",
      "myk2_29:k2,at=L1+0.22125;\n",
      "myk2_30:k2,at=L1+0.22875;\n",
      "myk2_31:k2,at=L1+0.23625;\n",
      "myk2_32:k2,at=L1+0.24375;\n",
      "myk2_33:k2,at=L1+0.25125;\n",
      "myk2_34:k2,at=L1+0.25875;\n",
      "myk2_35:k2,at=L1+0.26625;\n",
      "myk2_36:k2,at=L1+0.27375;\n",
      "myk2_37:k2,at=L1+0.28125;\n",
      "myk2_38:k2,at=L1+0.28875;\n",
      "myk2_39:k2,at=L1+0.29625;\n",
      "myk3_0:k3,at=L1+L2+0.00375;\n",
      "myk3_1:k3,at=L1+L2+0.01125;\n",
      "myk3_2:k3,at=L1+L2+0.01875;\n",
      "myk3_3:k3,at=L1+L2+0.02625;\n",
      "myk3_4:k3,at=L1+L2+0.03375;\n",
      "myk3_5:k3,at=L1+L2+0.04125;\n",
      "myk3_6:k3,at=L1+L2+0.04875;\n",
      "myk3_7:k3,at=L1+L2+0.05625;\n",
      "myk3_8:k3,at=L1+L2+0.06375;\n",
      "myk3_9:k3,at=L1+L2+0.07125;\n",
      "myk3_10:k3,at=L1+L2+0.07875;\n",
      "myk3_11:k3,at=L1+L2+0.08625;\n",
      "myk3_12:k3,at=L1+L2+0.09375;\n",
      "myk3_13:k3,at=L1+L2+0.10125;\n",
      "myk3_14:k3,at=L1+L2+0.10875;\n",
      "myk3_15:k3,at=L1+L2+0.11625;\n",
      "myk3_16:k3,at=L1+L2+0.12375;\n",
      "myk3_17:k3,at=L1+L2+0.13125;\n",
      "myk3_18:k3,at=L1+L2+0.13875;\n",
      "myk3_19:k3,at=L1+L2+0.14625;\n",
      "end_machine: marker at=totalLength;\n",
      "endsequence;\n",
      "beam, particle = proton, sequence=PSBGI, pc = 2.1;\n",
      "\n",
      "use, sequence=PSBGI;\n",
      "twiss, betx=1, bety=1;\n"
     ]
    }
   ],
   "source": [
    "print(myString1+myString2+myString3)"
   ]
  },
  {
   "cell_type": "code",
   "execution_count": 117,
   "metadata": {},
   "outputs": [
    {
     "data": {
      "text/plain": [
       "Text(0, 0.5, 'x [mm]')"
      ]
     },
     "execution_count": 117,
     "metadata": {},
     "output_type": "execute_result"
    },
    {
     "data": {
      "image/png": "[encoded data removed]",
      "text/plain": [
       "<Figure size 432x288 with 1 Axes>"
      ]
     },
     "metadata": {
      "needs_background": "light"
     },
     "output_type": "display_data"
    }
   ],
   "source": [
    "plt.plot(myTwiss.s,myTwiss.x*1000,'.-k')\n",
    "plt.xlabel('s [m]')\n",
    "plt.ylabel('x [mm]')"
   ]
  },
  {
   "cell_type": "code",
   "execution_count": 129,
   "metadata": {},
   "outputs": [],
   "source": [
    "madx.elements.myk1_12.kick=0"
   ]
  },
  {
   "cell_type": "code",
   "execution_count": 130,
   "metadata": {},
   "outputs": [
    {
     "data": {
      "text/plain": [
       "0.0"
      ]
     },
     "execution_count": 130,
     "metadata": {},
     "output_type": "execute_result"
    }
   ],
   "source": [
    "madx.elements.myk1_12.kick"
   ]
  },
  {
   "cell_type": "code",
   "execution_count": 132,
   "metadata": {},
   "outputs": [
    {
     "data": {
      "text/plain": [
       "<bound method Madx.twiss of <cpymad.madx.Madx object at 0x7ffa6deaa208>>"
      ]
     },
     "execution_count": 132,
     "metadata": {},
     "output_type": "execute_result"
    }
   ],
   "source": [
    "madx.twiss()7"
   ]
  },
  {
   "cell_type": "code",
   "execution_count": 143,
   "metadata": {},
   "outputs": [],
   "source": [
    "madx.elements.myk2_34.kick=0"
   ]
  },
  {
   "cell_type": "code",
   "execution_count": 144,
   "metadata": {},
   "outputs": [
    {
     "data": {
      "text/plain": [
       "0.0"
      ]
     },
     "execution_count": 144,
     "metadata": {},
     "output_type": "execute_result"
    }
   ],
   "source": [
    "madx.elements.myk2_34.kick"
   ]
  },
  {
   "cell_type": "code",
   "execution_count": null,
   "metadata": {},
   "outputs": [],
   "source": []
  }
 ],
 "metadata": {
  "kernelspec": {
   "display_name": "Python 3",
   "language": "python",
   "name": "python3"
  },
  "language_info": {
   "codemirror_mode": {
    "name": "ipython",
    "version": 3
   },
   "file_extension": ".py",
   "mimetype": "text/x-python",
   "name": "python",
   "nbconvert_exporter": "python",
   "pygments_lexer": "ipython3",
   "version": "3.7.3"
  }
 },
 "nbformat": 4,
 "nbformat_minor": 2
}
