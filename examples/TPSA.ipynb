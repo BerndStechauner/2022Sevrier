{
 "cells": [
  {
   "cell_type": "markdown",
   "metadata": {},
   "source": [
    "# TPSA and python\n",
    "We made a very simple example on how to program a TPSA example in Python.\n",
    "The idea is to clarify the TPSA approach in itself and to remove the (possible) mistery around it. \n",
    "This notebook is based on https://agenda.infn.it/getFile.py/access?resId=0&materialId=slides&confId=2620 and http://bt.pa.msu.edu/pub/papers/pada/pada.pdf\n",
    "\n",
    "### Introduction \n",
    "As child, we learnt how to count and in the first years of schools we learnt that instead of counting we can use the power of algebric operation to \"count faster\", to associate set of number with \"+\",\"-\",\"*\" and \"/\".\n",
    "\n",
    "Example: if you merge two sets of 15 and 35 units then the total set has 50 units. You do not need to count the set after the merging but you apply just the \"algebra\".\n",
    "\n",
    "Similarly in the high school we learnt the calculus and how to \"count\" derivative (\"make an analytical derivative\"). We did not learn the corresponding algebra of the derivatives (that is how to combine with basic operation different derivatives). \n",
    "TPSA is the algebra used for truncated power series and it can be directly linked to the computation of the derivatives.\n",
    "\n",
    "Let us assume we want to compute the first derivative of the simple function\n",
    "\\begin{equation}\n",
    "f(x)=\\frac{1}{x+\\frac{1}{x}}\n",
    "\\end{equation}\n",
    "in $x_0=2$.\n",
    "As an example we to do it analytically, and later check that the TPSA results are correct."
   ]
  },
  {
   "cell_type": "code",
   "execution_count": 1,
   "metadata": {},
   "outputs": [],
   "source": [
    "import sympy as sy\n",
    "import numpy as np\n",
    "x=sy.symbols('x')\n",
    "sy.init_printing(use_unicode=True)"
   ]
  },
  {
   "cell_type": "code",
   "execution_count": 2,
   "metadata": {},
   "outputs": [
    {
     "data": {
      "image/png": "[encoded data removed]",
      "text/latex": [
       "$$\\frac{- x^{2} + 1}{\\left(x^{2} + 1\\right)^{2}}$$"
      ],
      "text/plain": [
       "    2    \n",
       " - x  + 1\n",
       "─────────\n",
       "        2\n",
       "⎛ 2    ⎞ \n",
       "⎝x  + 1⎠ "
      ]
     },
     "execution_count": 2,
     "metadata": {},
     "output_type": "execute_result"
    }
   ],
   "source": [
    "myFunction=1/(x+1/x)\n",
    "myDerivative=sy.simplify(sy.diff(myFunction,x))\n",
    "myDerivative"
   ]
  },
  {
   "cell_type": "code",
   "execution_count": 3,
   "metadata": {},
   "outputs": [
    {
     "data": {
      "image/png": "[encoded data removed]",
      "text/latex": [
       "$$- \\frac{3}{25}$$"
      ],
      "text/plain": [
       "-3/25"
      ]
     },
     "execution_count": 3,
     "metadata": {},
     "output_type": "execute_result"
    }
   ],
   "source": [
    "myDerivative.subs(x,2)"
   ]
  },
  {
   "cell_type": "code",
   "execution_count": 4,
   "metadata": {},
   "outputs": [
    {
     "data": {
      "image/png": "[encoded data removed]",
      "text/latex": [
       "$$\\frac{2}{5}$$"
      ],
      "text/plain": [
       "2/5"
      ]
     },
     "execution_count": 4,
     "metadata": {},
     "output_type": "execute_result"
    }
   ],
   "source": [
    "myFunction.subs(x,2)"
   ]
  },
  {
   "cell_type": "markdown",
   "metadata": {},
   "source": [
    "Now we will do the same using a basic TPSA class. \n",
    "\n",
    "**DISCLAIMER**: this is a very naive application and not a fully fledged TPSA package. The goal is to propose the simplest example. We will consider **only** function from $\\mathbb{R}$ to $\\mathbb{R}$ like the one mentioned above. In addition we privileged the code clarity more than its speed."
   ]
  },
  {
   "cell_type": "markdown",
   "metadata": {},
   "source": [
    "## TPSA\n",
    "\n",
    "We need to associate to our problem a vector representing the truncated power series of the function $f$. For instance the vector [$f(x_0)$, $\\frac{df(x_0)}{dx}$] could represent the function and its first derivative evaluated in $x_0$. \n",
    "Up to this moment we set only a goal, now we can define a strategy.\n",
    "\n",
    "The strategy is to replace a seed vector like [$x_0,\\ 1$] (having the information of the starting point $x_0$ and representing the \"TPSA differential\") in our function such that after the \"overloading\" of the function we end up with the result [$f(x_0)$, $\\frac{df(x_0)}{dx}$] by algebrically manipulation (that is without computing derivatives)."
   ]
  },
  {
   "cell_type": "markdown",
   "metadata": {},
   "source": [
    "In other words we would like that our TPS algebra could compute \n",
    "\\begin{equation}\n",
    "\\frac{1}{[2,1]+\\frac{1}{[2,1]}}.\n",
    "\\end{equation}\n",
    "and give as result the [$\\frac{2}{5},\\ -\\frac{3}{25}$]. Clearly we need to define the concept of sum and division for our TPSA."
   ]
  },
  {
   "cell_type": "markdown",
   "metadata": {},
   "source": [
    "# The truncate method\n",
    "We will use to represent [$f(x_0)$, $\\frac{df(x_0)}{dx}$] a np.array. To condition the code we use the method \"truncate\" to avoid too short or too long np.array (the length of the np.array in our case HAS to be 2).\n",
    "\n",
    "Here you are the proposed class:"
   ]
  },
  {
   "cell_type": "code",
   "execution_count": 5,
   "metadata": {},
   "outputs": [],
   "source": [
    "class TPSA():  \n",
    "    \n",
    "    order=1\n",
    "    \n",
    "    def truncate(v1):\n",
    "        # it takes list or np.array\n",
    "        v1=np.array(v1)\n",
    "        if len(v1)>(TPSA.order+1):\n",
    "            return v1[0:(TPSA.order+1)]\n",
    "        else:\n",
    "            if len(v1)<(TPSA.order+1):\n",
    "                return np.hstack((v1,np.zeros(TPSA.order+1-len(v1))))\n",
    "            else:\n",
    "                return v1;"
   ]
  },
  {
   "cell_type": "code",
   "execution_count": 6,
   "metadata": {},
   "outputs": [
    {
     "data": {
      "text/plain": [
       "array([1., 0.])"
      ]
     },
     "execution_count": 6,
     "metadata": {},
     "output_type": "execute_result"
    }
   ],
   "source": [
    "# Example\n",
    "TPSA.truncate([1])"
   ]
  },
  {
   "cell_type": "code",
   "execution_count": 7,
   "metadata": {},
   "outputs": [
    {
     "data": {
      "text/plain": [
       "array([2, 3])"
      ]
     },
     "execution_count": 7,
     "metadata": {},
     "output_type": "execute_result"
    }
   ],
   "source": [
    "# Example\n",
    "TPSA.truncate([2,3,4])"
   ]
  },
  {
   "cell_type": "markdown",
   "metadata": {},
   "source": [
    "## The sum\n",
    "We observe that \n",
    "\\begin{equation}\n",
    "a+b x + c +d x =(a+c) +(b+d) x.\n",
    "\\end{equation}\n",
    "Therefore the sum of the TPSA space we want to compute has to be compliant with this results. That is \n",
    "\\begin{equation}\n",
    "[a,b] + [c, d]=[a+b, c+d].\n",
    "\\end{equation}\n",
    "Here you are then the class we started to build extended with the additional method \"sum\". Note that we extend the previous class using the object inheritance."
   ]
  },
  {
   "cell_type": "code",
   "execution_count": 8,
   "metadata": {},
   "outputs": [],
   "source": [
    "class TPSA(TPSA):  \n",
    "    def sum(v1,v2):\n",
    "        # it takes list or np.array\n",
    "        return TPSA.truncate(v1)+TPSA.truncate(v2)\n"
   ]
  },
  {
   "cell_type": "code",
   "execution_count": 9,
   "metadata": {},
   "outputs": [
    {
     "data": {
      "text/plain": [
       "array([4., 3.])"
      ]
     },
     "execution_count": 9,
     "metadata": {},
     "output_type": "execute_result"
    }
   ],
   "source": [
    "# Example\n",
    "TPSA.sum([2,3,4],[2])"
   ]
  },
  {
   "cell_type": "markdown",
   "metadata": {},
   "source": [
    "# The division\n",
    "What do we expect from the operation of division?\n",
    "$\\frac{1}{[x_0,x_1]}$ should end up in [$\\frac{1}{x_0}$,$-\\frac{x_1}{x_0^2}$]. This is a simple approach that can be extended to all unary (single operand) operator."
   ]
  },
  {
   "cell_type": "code",
   "execution_count": 10,
   "metadata": {},
   "outputs": [],
   "source": [
    "class TPSA(TPSA):  \n",
    "    def divide(v1):\n",
    "        v1=TPSA.truncate(v1)\n",
    "        return np.array([1/v1[0],-v1[1]/v1[0]**2])"
   ]
  },
  {
   "cell_type": "code",
   "execution_count": 11,
   "metadata": {},
   "outputs": [
    {
     "data": {
      "text/plain": [
       "array([ 0.5 , -0.25])"
      ]
     },
     "execution_count": 11,
     "metadata": {},
     "output_type": "execute_result"
    }
   ],
   "source": [
    "# Example\n",
    "TPSA.divide([2,1])"
   ]
  },
  {
   "cell_type": "markdown",
   "metadata": {},
   "source": [
    "## Putting all together\n",
    "\n",
    "Here you are the TPSA version of\n",
    "\\begin{equation}\n",
    "f(x)=\\frac{1}{x+\\frac{1}{x}}\n",
    "\\end{equation}\n",
    "in $x_0=2$."
   ]
  },
  {
   "cell_type": "code",
   "execution_count": 12,
   "metadata": {},
   "outputs": [
    {
     "data": {
      "text/plain": [
       "array([ 0.4 , -0.12])"
      ]
     },
     "execution_count": 12,
     "metadata": {},
     "output_type": "execute_result"
    }
   ],
   "source": [
    "x=[2,1]\n",
    "TPSA.divide(TPSA.sum(x,TPSA.divide(x)))"
   ]
  },
  {
   "cell_type": "markdown",
   "metadata": {},
   "source": [
    "We therefore find exactly the expected result.\n",
    "Have a look to the following examples and tests."
   ]
  },
  {
   "cell_type": "code",
   "execution_count": 13,
   "metadata": {},
   "outputs": [
    {
     "data": {
      "text/plain": [
       "array([ 0.4 , -0.24])"
      ]
     },
     "execution_count": 13,
     "metadata": {},
     "output_type": "execute_result"
    }
   ],
   "source": [
    "x=[2,2]\n",
    "TPSA.divide(TPSA.sum(x,TPSA.divide(x)))"
   ]
  },
  {
   "cell_type": "code",
   "execution_count": 14,
   "metadata": {},
   "outputs": [
    {
     "data": {
      "text/plain": [
       "array([ 0.5, -0. ])"
      ]
     },
     "execution_count": 14,
     "metadata": {},
     "output_type": "execute_result"
    }
   ],
   "source": [
    "x=[1,0]\n",
    "TPSA.divide(TPSA.sum(x,TPSA.divide(x)))"
   ]
  },
  {
   "cell_type": "markdown",
   "metadata": {},
   "source": [
    "A proper way to do things would be define a new type (class) and overload also \"+\",\"-\",\"*\",...\n",
    "https://realpython.com/operator-function-overloading/\n"
   ]
  },
  {
   "cell_type": "code",
   "execution_count": 15,
   "metadata": {},
   "outputs": [],
   "source": [
    "class TPSA():   \n",
    "    def __init__(self, TPSA_vector):\n",
    "        self.order=1\n",
    "        self.vector =  self.__truncate__(TPSA_vector)\n",
    "    \n",
    "    def __truncate__(self,v1):\n",
    "        # it takes list or np.array\n",
    "        v1=np.array(v1)\n",
    "        if len(v1)>(self.order+1):\n",
    "            return v1[0:(self.order+1)]\n",
    "        else:\n",
    "            if len(v1)<(self.order+1):\n",
    "                return np.hstack((v1,np.zeros(self.order+1-len(v1))))\n",
    "            else:\n",
    "                return v1;\n",
    "            \n",
    "    def __add__(self,v2):\n",
    "        # it takes list or np.array\n",
    "        return TPSA(self.vector+self.__truncate__(v2.vector))\n",
    "    \n",
    "    def __invert__(self):\n",
    "        return TPSA(np.array([1./self.vector[0],-self.vector[1]/self.vector[0]**2]))"
   ]
  },
  {
   "cell_type": "code",
   "execution_count": 16,
   "metadata": {},
   "outputs": [
    {
     "data": {
      "text/plain": [
       "array([ 0.4 , -0.12])"
      ]
     },
     "execution_count": 16,
     "metadata": {},
     "output_type": "execute_result"
    }
   ],
   "source": [
    "# Note that the unary inversion in Python is ~\n",
    "x=TPSA([2,1])\n",
    "(~(x+~x)).vector"
   ]
  },
  {
   "cell_type": "code",
   "execution_count": null,
   "metadata": {},
   "outputs": [],
   "source": []
  }
 ],
 "metadata": {
  "kernelspec": {
   "display_name": "Python 3 (ipykernel)",
   "language": "python",
   "name": "python3"
  },
  "language_info": {
   "codemirror_mode": {
    "name": "ipython",
    "version": 3
   },
   "file_extension": ".py",
   "mimetype": "text/x-python",
   "name": "python",
   "nbconvert_exporter": "python",
   "pygments_lexer": "ipython3",
   "version": "3.9.13"
  },
  "vscode": {
   "interpreter": {
    "hash": "31f2aee4e71d21fbe5cf8b01ff0e069b9275f58929596ceb00d14d90e3e16cd6"
   }
  }
 },
 "nbformat": 4,
 "nbformat_minor": 4
}
